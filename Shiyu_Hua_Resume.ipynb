{
  "nbformat": 4,
  "nbformat_minor": 0,
  "metadata": {
    "colab": {
      "name": "Shiyu Hua Resume.ipynb",
      "provenance": [],
      "authorship_tag": "ABX9TyNBPJjCPvM67Q7xQ+ywRTBj",
      "include_colab_link": true
    },
    "kernelspec": {
      "name": "python3",
      "display_name": "Python 3"
    },
    "language_info": {
      "name": "python"
    }
  },
  "cells": [
    {
      "cell_type": "markdown",
      "metadata": {
        "id": "view-in-github",
        "colab_type": "text"
      },
      "source": [
        "<a href=\"https://colab.research.google.com/github/shiyu-hua/Resume-CV/blob/main/Shiyu_Hua_Resume.ipynb\" target=\"_parent\"><img src=\"https://colab.research.google.com/assets/colab-badge.svg\" alt=\"Open In Colab\"/></a>"
      ]
    },
    {
      "cell_type": "markdown",
      "metadata": {
        "id": "2jw6Ov_KA2fm"
      },
      "source": [
        "# **Shiyu Hua** #\n",
        "> 400 W 113th St, New York, NY, 10025\n",
        "\n",
        "> (650)305-6078\n",
        "\n",
        "> sh4166@columbia.edu\n",
        "\n",
        "> [**Personal Website**](https://sh4166.wixsite.com/shiyuhua)\n",
        "\n",
        "---\n",
        "\n",
        "---\n",
        "\n"
      ]
    },
    {
      "cell_type": "markdown",
      "metadata": {
        "id": "6Up0i5_ZBBS-"
      },
      "source": [
        "## **SUMMARY** ##\n",
        "\n",
        "*A growing professional with an academic background in accounting, finance, and analytics coupled with a strong analytical mind to solve complex problems. Possess a strong eye for detail and can thrive independently as well as in a team environment. Self-governed with excellent organizational and time management skills and demonstrated track record of completing high quality deliverables. Eager to learn and not afraid of struggle and failure.*\n",
        "\n",
        "### **CORE COMPENTENCIES** #\n",
        "`Collaboration` `Self-governing` `Strategizing` `Self-starter` `Detail Oriented` `Multilingual` \n",
        "\n",
        "---\n",
        "\n",
        "\n",
        "\n",
        "---\n",
        "\n"
      ]
    },
    {
      "cell_type": "markdown",
      "metadata": {
        "id": "3GGF2aRsBCA1"
      },
      "source": [
        "## **EDUCATION** #\n",
        "\n",
        "**Columbia University**, New York, NY\n",
        "\n",
        "Candidiate of Master of Applied Analytics, May 2023\n",
        "\n",
        "Relevant course work: Applied Analytics Frameworks & Methods, Research Design, Storytelling with Data\n",
        "\n",
        "**Bentley University**, Waltham, MA\n",
        "\n",
        "Bachelor of Science in Corporate Finance and Accounting, May 2021\n",
        "\n",
        "*Major GPA: 3.95 / 4.0*\n",
        "\n",
        "Minor in Data Technologies\n",
        "\n",
        "Relevant course work: Financial Accounting and Report, Accounting Information Systems, Data Science\n",
        "\n",
        "\n",
        "---\n",
        "\n",
        "\n",
        "\n",
        "---\n",
        "\n"
      ]
    },
    {
      "cell_type": "markdown",
      "metadata": {
        "id": "CpS6MCr2A-ok"
      },
      "source": [
        "## **RELEVENT PROJECTS** #\n",
        "\n",
        "**Data Science Project: Global Covid19 Spread**, April 2020 - May 2020\n",
        "\n",
        "*   Got data on spread of virus from JHU time-series data and data on countries involved from World Bank into Python, cleaned those datasets, and merged appropriately into a single dataset\n",
        "*   Analyzed dataset and communicated insights through report and visualizations\n",
        "*   [Github repository](https://github.com/shiyu-hua/Data-Science-Project-Covid19-Cases)\n",
        "\n",
        "**Statistic Project: Industry Investment Return**, September 2019 - September 2019\n",
        "\n",
        "*   Prepared a group report comparing yearly returns for Pharmaceuticals and IT Services from top 30 U.S. companies by market capitalization\n",
        "*   Attended meeting with teammates to gather data and conduct statistical analysis using R Studio\n",
        "*   Delivered presentation using PowerPoint, summarizing report and responding audiences' questions\n",
        "\n",
        "\n",
        "---\n",
        "\n",
        "\n",
        "\n",
        "---\n",
        "\n",
        "\n",
        "\n"
      ]
    },
    {
      "cell_type": "markdown",
      "metadata": {
        "id": "BzPfv57zTM0a"
      },
      "source": [
        "## **WORK EXPERIENCE**#\n",
        "\n",
        "**Bentley University** - *Technology Assistant*; Waltham, MA\t\n",
        "\n",
        "May 2019 - May 2020\n",
        "\n",
        "*   Gathered and set up technological requirements in physical and virtual class\n",
        "*   Collaborated with 4 professors for smooth conduct of hybrid classes by monitoring video, audio, and Zoom Chat box\n",
        "*   Resolved immediately any problems faced by online students during class time\n",
        "*   Ensured timely reporting of technical anomalies and schedule changes to supervisors and other colleagues\n",
        "*   Provided training and support to 2 new technology assistants\n",
        "\n",
        "**GuoTai JunAn Securities Co. LTD** - *Client Service Assistant*; Shanghai, China\n",
        "\n",
        "June 2018 - August 2018\n",
        "\n",
        "*   Informed details of investment products to 400 clients and updated response information to Excel spreadsheet\n",
        "*   Prepared 3 news announcements from public companies once every two days\n",
        "*   Managed high school juniors experiencing finance career activity by planning, managing students' daily routines and co-hosting 4 financial seminars with other professionals\n",
        "\n",
        "\n",
        "---\n",
        "\n",
        "\n",
        "\n",
        "---\n",
        "\n",
        "\n"
      ]
    },
    {
      "cell_type": "markdown",
      "metadata": {
        "id": "DL2LEhLBTMuC"
      },
      "source": [
        "## **LEADERSHIP EXPERIENCE AND ACTIVITIES** #\n",
        "\n",
        "**Bentley Chinese Young Professional Association** - *Vice President of Operation*; Waltham, MA\t\n",
        "\n",
        "January 2019 - January 2020\n",
        "\n",
        "*   Led annual Chinese New Year and Mid-Autumn celebrating night, consisting of students performances and tradition corner, and coordinated with other departments about related campaigns\n",
        "*   Set up a mentor - mentee program for Chinese students, and hosted a large ice-breaking event and several experience sharing events\n",
        "\n",
        "**Bentley Center for International Students and Scholars** - *Worldview Ambassador Volunteer*; Waltham, MA\t\n",
        "\n",
        "September 2018 - September 2019\n",
        "\n",
        "*   Present panel or class discussions to fellow students and faculty by researching and sharing cultural and living difference between U.S. and country of origin\n",
        "\n",
        "\n",
        "---\n",
        "\n",
        "\n",
        "\n",
        "---\n",
        "\n",
        "\n"
      ]
    },
    {
      "cell_type": "markdown",
      "metadata": {
        "id": "1U-FBdIJTMmU"
      },
      "source": [
        "## **SUMMARY OF SKILLS** #\n",
        "\n",
        "Technical: `Microsoft Office Suite (Word, PowerPoint, Excel)`, `Python`,`RStudio`, `SQL`, `Zoom`, `SAP Lumira`, `Tableau`\n",
        "\n",
        "Language: `English(Bilingual)`, `Chinese(Native)`, `Japanese(Business professional, JLPT N1)` \n",
        "\n",
        "\n",
        "---\n",
        "\n",
        "\n",
        "\n",
        "---\n",
        "\n"
      ]
    },
    {
      "cell_type": "markdown",
      "metadata": {
        "id": "49IPdK_dVaks"
      },
      "source": [
        "## **ADDITIONAL INFORMATION**\n",
        "\n",
        "> Member: `Bentley Beta Alpha Psi`, `National Society of Leadership and Success`, `Chinese Young Professional Association`, `Momentum Dance Club`, `WFLA High School Embassy`\n",
        "\n",
        "> Volunteered at Bentley Admission Office to guide perspective students and parents through campus on Admission Day\n",
        "\n",
        "> Volunteered at a community nursing house to spend time and play with elderly people\n",
        "\n",
        "> Volunteered at Shanghai International High School Fair to answer questions and share IB information to perspective high school students and their parents \n",
        "\n",
        "\n"
      ]
    }
  ]
}